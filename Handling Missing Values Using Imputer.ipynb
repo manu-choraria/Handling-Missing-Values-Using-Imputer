# To display Boolean Wise Missing Values
import pandas as pd
import numpy as np
from sklearn.impute import SimpleImputer
df = pd.read_csv("cars.csv", delimiter=';')
df.isnull()

# To impute Missing Values Using Mean Of Data
Data1 = df.iloc[1:, 1:8].dropna().values
dataset = df.iloc[1:,1:8].values

imputer = SimpleImputer(missing_values= np.nan, strategy="mean")
imputer = imputer.fit(Data1[:,:])

dataset[:,:]= imputer.transform(dataset[:,:])
pd.DataFrame(dataset[:,:])

# To impute Missing Values Using Median Of Data
imputer2 = SimpleImputer(missing_values= np.nan, strategy="median")
imputer2 = imputer2.fit(Data1[:,:])
dataset[:,:]= imputer2.transform(dataset[:,:])
pd.DataFrame(dataset[:,:])

# To impute missing values using Mode Of Data
imputer3 = SimpleImputer(missing_values= np.nan, strategy="most_frequent")
imputer3 = imputer3.fit(Data1[:,:])

dataset[:,:]= imputer3.transform(dataset[:,:])
pd.DataFrame(dataset[:,:])

# To drop Missing Values
print(df.dropna())
